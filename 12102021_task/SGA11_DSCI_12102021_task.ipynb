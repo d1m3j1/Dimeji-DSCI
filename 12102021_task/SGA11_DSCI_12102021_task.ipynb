{
 "cells": [
  {
   "cell_type": "code",
   "execution_count": 1,
   "metadata": {},
   "outputs": [],
   "source": [
    "album1_rating = int(input())\n",
    "\n",
    "if album1_rating > 8:\n",
    "    print('This Album is amazing') "
   ]
  },
  {
   "cell_type": "code",
   "execution_count": 2,
   "metadata": {},
   "outputs": [
    {
     "name": "stdout",
     "output_type": "stream",
     "text": [
      "This album is amazing\n"
     ]
    }
   ],
   "source": [
    "album2_rating = int(input())\n",
    "\n",
    "if album2_rating > 8:\n",
    "    print('This album is amazing')\n",
    "elif album2_rating <= 8: \n",
    "    print('This album is ok')"
   ]
  },
  {
   "cell_type": "code",
   "execution_count": 5,
   "metadata": {},
   "outputs": [
    {
     "name": "stdout",
     "output_type": "stream",
     "text": [
      "Correct\n"
     ]
    }
   ],
   "source": [
    "a = 4\n",
    "b = 2\n",
    "\n",
    "def f(a,b):\n",
    "    return a * b\n",
    "\n",
    "if a * b == f(a,b):\n",
    "    print(\"Correct\")\n",
    "else: \n",
    "    print(\"Incorrect\")\n",
    "\n",
    "\n"
   ]
  },
  {
   "cell_type": "code",
   "execution_count": 4,
   "metadata": {},
   "outputs": [
    {
     "name": "stdout",
     "output_type": "stream",
     "text": [
      "Correct\n"
     ]
    }
   ],
   "source": [
    "a = [1,2,3,4,5]\n",
    "b = 0\n",
    "def g(a, b):\n",
    "    for i in a:\n",
    "        b += i\n",
    "    return(b)\n",
    "\n",
    "g(a,b)\n",
    "\n",
    "if sum(a) == g(a,b):\n",
    "    print(\"Correct\")\n",
    "else:\n",
    "    print(\"Incorrect\")\n"
   ]
  }
 ],
 "metadata": {
  "interpreter": {
   "hash": "5c4efd28375f5ba8a51f565cee7f8d1a7d564139754e7c4abdea6e1704b15907"
  },
  "kernelspec": {
   "display_name": "Python 3.7.1rc1 64-bit ('env': venv)",
   "name": "python3"
  },
  "language_info": {
   "codemirror_mode": {
    "name": "ipython",
    "version": 3
   },
   "file_extension": ".py",
   "mimetype": "text/x-python",
   "name": "python",
   "nbconvert_exporter": "python",
   "pygments_lexer": "ipython3",
   "version": "3.7.1"
  },
  "orig_nbformat": 4
 },
 "nbformat": 4,
 "nbformat_minor": 2
}
